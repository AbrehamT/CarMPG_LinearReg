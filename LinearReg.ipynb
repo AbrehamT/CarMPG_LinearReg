{
 "cells": [
  {
   "cell_type": "code",
   "execution_count": 3,
   "id": "initial_id",
   "metadata": {
    "collapsed": true,
    "ExecuteTime": {
     "end_time": "2024-03-22T20:55:26.380412500Z",
     "start_time": "2024-03-22T20:55:25.765941800Z"
    }
   },
   "outputs": [],
   "source": [
    "import pandas as pd\n",
    "import numpy as np\n",
    "import random as rand\n",
    "\n",
    "auto_mpg = pd.read_fwf('auto-mpg.data', header=None)\n",
    "auto_mpg.drop(auto_mpg.columns[8], axis = 1, inplace = True)\n",
    "\n",
    "y = auto_mpg.iloc[:353,0]\n",
    "X = auto_mpg.iloc[:353,1:8]\n",
    "\n",
    "y_test = auto_mpg.iloc[353:392, 0]\n",
    "X_test = auto_mpg.iloc[353:392, 1:8]\n",
    "X_test = pd.DataFrame(np.c_[np.ones(X_test.shape[0]), X_test])"
   ]
  },
  {
   "cell_type": "code",
   "outputs": [],
   "source": [
    "from sklearn.preprocessing import StandardScaler\n",
    "scaler = StandardScaler()\n",
    "X_nor = scaler.fit_transform(X)\n",
    "y_nor = scaler.fit_transform(y.to_frame())\n",
    "X_nor = pd.DataFrame(np.c_[np.ones(X_nor.shape[0]), X_nor])"
   ],
   "metadata": {
    "collapsed": false,
    "ExecuteTime": {
     "end_time": "2024-03-22T20:55:33.343422800Z",
     "start_time": "2024-03-22T20:55:33.338389Z"
    }
   },
   "id": "b3f0bd4be98eff45",
   "execution_count": 5
  },
  {
   "cell_type": "code",
   "outputs": [
    {
     "name": "stdout",
     "output_type": "stream",
     "text": [
      "63.694723573685884\n"
     ]
    }
   ],
   "source": [
    "def SolverLinearRegression(X, y):\n",
    "    return np.dot(np.dot(np.linalg.inv(np.dot(X.transpose(), X)), X.transpose()), y)\n",
    "\n",
    "def cost(X, y, b):\n",
    "    return np.sum((np.dot(X, b) - np.array(y))**2)\n",
    "\n",
    "b_opt = SolverLinearRegression(X_nor, y_nor)\n",
    "coeff_list = np.array([i/10 for i in range(8)]).reshape(-1,1)\n",
    "ols_cost = cost(X_nor, y_nor, b_opt)\n",
    "print(ols_cost)"
   ],
   "metadata": {
    "collapsed": false,
    "ExecuteTime": {
     "end_time": "2024-03-22T20:55:36.726714200Z",
     "start_time": "2024-03-22T20:55:36.717064200Z"
    }
   },
   "id": "c5edf523cc284003",
   "execution_count": 6
  },
  {
   "cell_type": "code",
   "outputs": [],
   "source": [
    "def GD_LR(X, y, b):\n",
    "    return -np.dot(X.transpose(), y) + np.dot(np.dot(X.transpose(), X), b)\n",
    "\n",
    "coeff_list = np.array(coeff_list)\n",
    "learning_rate = 1e-8\n",
    "loss = [cost(X_nor, y_nor, coeff_list)]\n",
    "bs = [coeff_list]\n",
    "for i in range(10000):\n",
    "    coeff_list -= learning_rate * GD_LR(X_nor, y_nor, coeff_list)\n",
    "    b_cost = cost(X_nor, y_nor, coeff_list)\n",
    "    bs.append(coeff_list)\n",
    "    loss.append(b_cost)\n"
   ],
   "metadata": {
    "collapsed": false,
    "ExecuteTime": {
     "end_time": "2024-03-20T03:18:22.183296900Z",
     "start_time": "2024-03-20T03:18:21.076352500Z"
    }
   },
   "id": "e246b57964ca848",
   "execution_count": 292
  },
  {
   "cell_type": "code",
   "outputs": [],
   "source": [
    "def find_gradient(X, y, coefficient_list):\n",
    "    y_predicted = X.dot(coefficient_list)\n",
    "    residuals = y - y_predicted\n",
    "    gradient = -2 * X.T.dot(residuals)\n",
    "    return gradient\n",
    "\n",
    "coeff_list2 = np.array([i/10 for i in range(8)]).reshape(-1,1)\n",
    "learning_rate = 1e-8\n",
    "loss = [cost(X_nor, y_nor, coeff_list)]\n",
    "bs = [coeff_list2]\n",
    "\n",
    "for i in range(10000):\n",
    "    coeff_list2 -= learning_rate * find_gradient(X_nor, y_nor, coeff_list2)\n",
    "    b_cost = cost(X_nor, y_nor, coeff_list2)\n",
    "    bs.append(coeff_list2)\n",
    "    loss.append(b_cost)\n"
   ],
   "metadata": {
    "collapsed": false,
    "ExecuteTime": {
     "end_time": "2024-03-20T03:19:32.056937300Z",
     "start_time": "2024-03-20T03:19:28.343104900Z"
    }
   },
   "id": "5b8ba4816f65b33e",
   "execution_count": 294
  }
 ],
 "metadata": {
  "kernelspec": {
   "display_name": "Python 3",
   "language": "python",
   "name": "python3"
  },
  "language_info": {
   "codemirror_mode": {
    "name": "ipython",
    "version": 2
   },
   "file_extension": ".py",
   "mimetype": "text/x-python",
   "name": "python",
   "nbconvert_exporter": "python",
   "pygments_lexer": "ipython2",
   "version": "2.7.6"
  }
 },
 "nbformat": 4,
 "nbformat_minor": 5
}
